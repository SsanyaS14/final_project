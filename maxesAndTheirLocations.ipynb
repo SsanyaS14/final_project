{
 "cells": [
  {
   "cell_type": "code",
   "execution_count": 17,
   "metadata": {},
   "outputs": [],
   "source": [
    "import pandas as pd\n",
    "import numpy as np"
   ]
  },
  {
   "cell_type": "code",
   "execution_count": 18,
   "metadata": {},
   "outputs": [],
   "source": [
    "df = pd.read_csv(\"well production.csv\")"
   ]
  },
  {
   "cell_type": "code",
   "execution_count": 33,
   "metadata": {},
   "outputs": [
    {
     "name": "stdout",
     "output_type": "stream",
     "text": [
      "31785.0\n",
      "29639.0\n",
      "27465.0\n",
      "25325.0\n",
      "23151.0\n",
      "20982.0\n",
      "18815.0\n",
      "16658.0\n",
      "14448.0\n",
      "12324.0\n",
      "10138.0\n",
      "8002.0\n",
      "[oil 1    0\n",
      "dtype: int64, oil 2    0\n",
      "dtype: int64, oil 3    0\n",
      "dtype: int64, oil 4    0\n",
      "dtype: int64, oil 5    0\n",
      "dtype: int64, oil 6    0\n",
      "dtype: int64, oil 7    0\n",
      "dtype: int64, oil 8    0\n",
      "dtype: int64, oil 9    0\n",
      "dtype: int64, oil 10    0\n",
      "dtype: int64, oil 11    0\n",
      "dtype: int64, oil 12    0\n",
      "dtype: int64]\n"
     ]
    }
   ],
   "source": [
    "listOfOilMaxes = []\n",
    "# Iterate over two given columns only from the dataframe\n",
    "for column in df[[\"oil 1\", \"oil 2\", \"oil 3\", \"oil 4\", \"oil 5\", \"oil 6\", \"oil 7\", \"oil 8\", \"oil 9\", \"oil 10\", \"oil 11\", \"oil 12\"]]:\n",
    "    listOfOilMaxes.append(df[column].max())\n",
    "    print(df[column].max())\n",
    "    \n",
    "listOfIndexes = [df[['oil 1']].idxmax(), df[['oil 2']].idxmax(), df[['oil 3']].idxmax(), df[['oil 4']].idxmax(), df[['oil 5']].idxmax(), df[['oil 6']].idxmax(), df[['oil 7']].idxmax(), df[['oil 8']].idxmax(), df[['oil 9']].idxmax(), df[['oil 10']].idxmax(), df[['oil 11']].idxmax(), df[['oil 12']].idxmax()]\n",
    "print(listOfIndexes)\n",
    "\n",
    "\n",
    "        \n",
    "    "
   ]
  },
  {
   "cell_type": "code",
   "execution_count": null,
   "metadata": {},
   "outputs": [],
   "source": []
  },
  {
   "cell_type": "code",
   "execution_count": 8,
   "metadata": {},
   "outputs": [
    {
     "ename": "ModuleNotFoundError",
     "evalue": "No module named 'tensorflow'",
     "output_type": "error",
     "traceback": [
      "\u001b[1;31m---------------------------------------------------------------------------\u001b[0m",
      "\u001b[1;31mModuleNotFoundError\u001b[0m                       Traceback (most recent call last)",
      "\u001b[1;32m<ipython-input-8-64156d691fe5>\u001b[0m in \u001b[0;36m<module>\u001b[1;34m\u001b[0m\n\u001b[1;32m----> 1\u001b[1;33m \u001b[1;32mimport\u001b[0m \u001b[0mtensorflow\u001b[0m \u001b[1;32mas\u001b[0m \u001b[0mtf\u001b[0m\u001b[1;33m\u001b[0m\u001b[1;33m\u001b[0m\u001b[0m\n\u001b[0m",
      "\u001b[1;31mModuleNotFoundError\u001b[0m: No module named 'tensorflow'"
     ]
    }
   ],
   "source": []
  },
  {
   "cell_type": "code",
   "execution_count": null,
   "metadata": {},
   "outputs": [],
   "source": []
  },
  {
   "cell_type": "code",
   "execution_count": null,
   "metadata": {},
   "outputs": [],
   "source": []
  }
 ],
 "metadata": {
  "kernelspec": {
   "display_name": "Python 3",
   "language": "python",
   "name": "python3"
  },
  "language_info": {
   "codemirror_mode": {
    "name": "ipython",
    "version": 3
   },
   "file_extension": ".py",
   "mimetype": "text/x-python",
   "name": "python",
   "nbconvert_exporter": "python",
   "pygments_lexer": "ipython3",
   "version": "3.7.3"
  }
 },
 "nbformat": 4,
 "nbformat_minor": 4
}
