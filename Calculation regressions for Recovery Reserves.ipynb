{
 "cells": [
  {
   "cell_type": "code",
   "execution_count": 2,
   "metadata": {},
   "outputs": [],
   "source": [
    "import os\n",
    "import pandas as pd \n",
    "import numpy as np\n",
    "import matplotlib.pyplot as plt\n",
    "import scipy.stats as st\n",
    "from sklearn.kernel_ridge import KernelRidge\n",
    "from sklearn.svm import SVC\n",
    "from sklearn.model_selection import train_test_split\n",
    "from sklearn import metrics\n",
    "from sklearn import metrics                               # measures to check our models\n",
    "from sklearn.model_selection import cross_val_score       # cross validation methods\n",
    "from sklearn.preprocessing import StandardScaler"
   ]
  },
  {
   "cell_type": "code",
   "execution_count": 3,
   "metadata": {},
   "outputs": [],
   "source": [
    "df = pd.read_csv(r\"C:\\Users\\super\\Desktop\\FRI 2019\\DATA\\calculations.csv\")"
   ]
  },
  {
   "cell_type": "code",
   "execution_count": 4,
   "metadata": {},
   "outputs": [
    {
     "data": {
      "text/html": [
       "<div>\n",
       "<style scoped>\n",
       "    .dataframe tbody tr th:only-of-type {\n",
       "        vertical-align: middle;\n",
       "    }\n",
       "\n",
       "    .dataframe tbody tr th {\n",
       "        vertical-align: top;\n",
       "    }\n",
       "\n",
       "    .dataframe thead th {\n",
       "        text-align: right;\n",
       "    }\n",
       "</style>\n",
       "<table border=\"1\" class=\"dataframe\">\n",
       "  <thead>\n",
       "    <tr style=\"text-align: right;\">\n",
       "      <th></th>\n",
       "      <th>Name</th>\n",
       "      <th>northing</th>\n",
       "      <th>CENTER of easting</th>\n",
       "      <th>Length</th>\n",
       "      <th>Thickness</th>\n",
       "      <th>Porosity</th>\n",
       "      <th>Permeability</th>\n",
       "      <th>water saturation</th>\n",
       "      <th>Young's modulus</th>\n",
       "      <th>oil saturation</th>\n",
       "      <th>poisson's ratio</th>\n",
       "      <th>average pressure (Pa)</th>\n",
       "      <th>recovery factor</th>\n",
       "      <th>E prime calculation</th>\n",
       "      <th>b calculation</th>\n",
       "      <th>Area method one</th>\n",
       "      <th>Area method two</th>\n",
       "      <th>Area average</th>\n",
       "      <th>original oil in place</th>\n",
       "    </tr>\n",
       "  </thead>\n",
       "  <tbody>\n",
       "    <tr>\n",
       "      <td>0</td>\n",
       "      <td>Brisket 1-204H.csv</td>\n",
       "      <td>33900</td>\n",
       "      <td>88867.87</td>\n",
       "      <td>4536</td>\n",
       "      <td>40.849003</td>\n",
       "      <td>0.0611</td>\n",
       "      <td>0.01566</td>\n",
       "      <td>0.062545</td>\n",
       "      <td>1.062235e+07</td>\n",
       "      <td>0.937455</td>\n",
       "      <td>0.30400</td>\n",
       "      <td>35023133</td>\n",
       "      <td>0.107214</td>\n",
       "      <td>1.170399e+07</td>\n",
       "      <td>122.236998</td>\n",
       "      <td>26.480535</td>\n",
       "      <td>21.071994</td>\n",
       "      <td>23.776265</td>\n",
       "      <td>2.697406e+05</td>\n",
       "    </tr>\n",
       "    <tr>\n",
       "      <td>1</td>\n",
       "      <td>Brisket 1-44H.csv</td>\n",
       "      <td>3900</td>\n",
       "      <td>6117.40</td>\n",
       "      <td>8435</td>\n",
       "      <td>5.000000</td>\n",
       "      <td>0.0567</td>\n",
       "      <td>0.01298</td>\n",
       "      <td>0.221377</td>\n",
       "      <td>4.556389e+06</td>\n",
       "      <td>0.778623</td>\n",
       "      <td>0.36054</td>\n",
       "      <td>36087449</td>\n",
       "      <td>0.072103</td>\n",
       "      <td>5.237163e+06</td>\n",
       "      <td>34.453241</td>\n",
       "      <td>13.401038</td>\n",
       "      <td>10.565269</td>\n",
       "      <td>11.983154</td>\n",
       "      <td>1.282571e+04</td>\n",
       "    </tr>\n",
       "    <tr>\n",
       "      <td>2</td>\n",
       "      <td>Brisket 10-65H.csv</td>\n",
       "      <td>14400</td>\n",
       "      <td>83103.15</td>\n",
       "      <td>6006</td>\n",
       "      <td>58.052313</td>\n",
       "      <td>0.0806</td>\n",
       "      <td>0.02811</td>\n",
       "      <td>0.065860</td>\n",
       "      <td>8.361116e+06</td>\n",
       "      <td>0.934140</td>\n",
       "      <td>0.31912</td>\n",
       "      <td>36199370</td>\n",
       "      <td>0.097415</td>\n",
       "      <td>9.309136e+06</td>\n",
       "      <td>225.741373</td>\n",
       "      <td>65.789194</td>\n",
       "      <td>52.566181</td>\n",
       "      <td>59.177687</td>\n",
       "      <td>1.254164e+06</td>\n",
       "    </tr>\n",
       "    <tr>\n",
       "      <td>3</td>\n",
       "      <td>Brisket 2-149H.csv</td>\n",
       "      <td>62100</td>\n",
       "      <td>85911.09</td>\n",
       "      <td>6622</td>\n",
       "      <td>28.468096</td>\n",
       "      <td>0.0454</td>\n",
       "      <td>0.00895</td>\n",
       "      <td>0.190072</td>\n",
       "      <td>9.908358e+06</td>\n",
       "      <td>0.809928</td>\n",
       "      <td>0.29749</td>\n",
       "      <td>31397763</td>\n",
       "      <td>0.085264</td>\n",
       "      <td>1.087039e+07</td>\n",
       "      <td>82.226532</td>\n",
       "      <td>25.435261</td>\n",
       "      <td>20.122727</td>\n",
       "      <td>22.778994</td>\n",
       "      <td>1.156179e+05</td>\n",
       "    </tr>\n",
       "    <tr>\n",
       "      <td>4</td>\n",
       "      <td>Brisket 3-212H.csv</td>\n",
       "      <td>43000</td>\n",
       "      <td>21815.15</td>\n",
       "      <td>8230</td>\n",
       "      <td>82.059431</td>\n",
       "      <td>0.0373</td>\n",
       "      <td>0.00609</td>\n",
       "      <td>0.047795</td>\n",
       "      <td>1.219924e+07</td>\n",
       "      <td>0.952205</td>\n",
       "      <td>0.32134</td>\n",
       "      <td>30569755</td>\n",
       "      <td>0.079498</td>\n",
       "      <td>1.360398e+07</td>\n",
       "      <td>184.397217</td>\n",
       "      <td>71.981665</td>\n",
       "      <td>57.177338</td>\n",
       "      <td>64.579502</td>\n",
       "      <td>9.126251e+05</td>\n",
       "    </tr>\n",
       "  </tbody>\n",
       "</table>\n",
       "</div>"
      ],
      "text/plain": [
       "                 Name  northing  CENTER of easting  Length  Thickness  \\\n",
       "0  Brisket 1-204H.csv     33900           88867.87    4536  40.849003   \n",
       "1   Brisket 1-44H.csv      3900            6117.40    8435   5.000000   \n",
       "2  Brisket 10-65H.csv     14400           83103.15    6006  58.052313   \n",
       "3  Brisket 2-149H.csv     62100           85911.09    6622  28.468096   \n",
       "4  Brisket 3-212H.csv     43000           21815.15    8230  82.059431   \n",
       "\n",
       "   Porosity  Permeability  water saturation  Young's modulus  oil saturation  \\\n",
       "0    0.0611       0.01566          0.062545     1.062235e+07        0.937455   \n",
       "1    0.0567       0.01298          0.221377     4.556389e+06        0.778623   \n",
       "2    0.0806       0.02811          0.065860     8.361116e+06        0.934140   \n",
       "3    0.0454       0.00895          0.190072     9.908358e+06        0.809928   \n",
       "4    0.0373       0.00609          0.047795     1.219924e+07        0.952205   \n",
       "\n",
       "   poisson's ratio  average pressure (Pa)  recovery factor  \\\n",
       "0          0.30400               35023133         0.107214   \n",
       "1          0.36054               36087449         0.072103   \n",
       "2          0.31912               36199370         0.097415   \n",
       "3          0.29749               31397763         0.085264   \n",
       "4          0.32134               30569755         0.079498   \n",
       "\n",
       "   E prime calculation  b calculation  Area method one  Area method two  \\\n",
       "0         1.170399e+07     122.236998        26.480535        21.071994   \n",
       "1         5.237163e+06      34.453241        13.401038        10.565269   \n",
       "2         9.309136e+06     225.741373        65.789194        52.566181   \n",
       "3         1.087039e+07      82.226532        25.435261        20.122727   \n",
       "4         1.360398e+07     184.397217        71.981665        57.177338   \n",
       "\n",
       "   Area average  original oil in place  \n",
       "0     23.776265           2.697406e+05  \n",
       "1     11.983154           1.282571e+04  \n",
       "2     59.177687           1.254164e+06  \n",
       "3     22.778994           1.156179e+05  \n",
       "4     64.579502           9.126251e+05  "
      ]
     },
     "execution_count": 4,
     "metadata": {},
     "output_type": "execute_result"
    }
   ],
   "source": [
    "df.head()"
   ]
  },
  {
   "cell_type": "code",
   "execution_count": 5,
   "metadata": {},
   "outputs": [],
   "source": [
    "recoverable = df['original oil in place']*df['recovery factor']"
   ]
  },
  {
   "cell_type": "code",
   "execution_count": 6,
   "metadata": {},
   "outputs": [
    {
     "data": {
      "text/plain": [
       "0      28920.062300\n",
       "1        924.778265\n",
       "2     122174.025604\n",
       "3       9858.100054\n",
       "4      72551.465773\n",
       "          ...      \n",
       "95    184499.495891\n",
       "96     57927.876387\n",
       "97     70681.782215\n",
       "98       305.811816\n",
       "99     27256.612570\n",
       "Length: 100, dtype: float64"
      ]
     },
     "execution_count": 6,
     "metadata": {},
     "output_type": "execute_result"
    }
   ],
   "source": [
    "recoverable"
   ]
  },
  {
   "cell_type": "code",
   "execution_count": 7,
   "metadata": {},
   "outputs": [],
   "source": [
    "df['recovery reserves'] = recoverable"
   ]
  },
  {
   "cell_type": "code",
   "execution_count": 8,
   "metadata": {},
   "outputs": [
    {
     "data": {
      "text/html": [
       "<div>\n",
       "<style scoped>\n",
       "    .dataframe tbody tr th:only-of-type {\n",
       "        vertical-align: middle;\n",
       "    }\n",
       "\n",
       "    .dataframe tbody tr th {\n",
       "        vertical-align: top;\n",
       "    }\n",
       "\n",
       "    .dataframe thead th {\n",
       "        text-align: right;\n",
       "    }\n",
       "</style>\n",
       "<table border=\"1\" class=\"dataframe\">\n",
       "  <thead>\n",
       "    <tr style=\"text-align: right;\">\n",
       "      <th></th>\n",
       "      <th>Name</th>\n",
       "      <th>northing</th>\n",
       "      <th>CENTER of easting</th>\n",
       "      <th>Length</th>\n",
       "      <th>Thickness</th>\n",
       "      <th>Porosity</th>\n",
       "      <th>Permeability</th>\n",
       "      <th>water saturation</th>\n",
       "      <th>Young's modulus</th>\n",
       "      <th>oil saturation</th>\n",
       "      <th>poisson's ratio</th>\n",
       "      <th>average pressure (Pa)</th>\n",
       "      <th>recovery factor</th>\n",
       "      <th>E prime calculation</th>\n",
       "      <th>b calculation</th>\n",
       "      <th>Area method one</th>\n",
       "      <th>Area method two</th>\n",
       "      <th>Area average</th>\n",
       "      <th>original oil in place</th>\n",
       "      <th>recovery reserves</th>\n",
       "    </tr>\n",
       "  </thead>\n",
       "  <tbody>\n",
       "    <tr>\n",
       "      <td>0</td>\n",
       "      <td>Brisket 1-204H.csv</td>\n",
       "      <td>33900</td>\n",
       "      <td>88867.87</td>\n",
       "      <td>4536</td>\n",
       "      <td>40.849003</td>\n",
       "      <td>0.0611</td>\n",
       "      <td>0.01566</td>\n",
       "      <td>0.062545</td>\n",
       "      <td>1.062235e+07</td>\n",
       "      <td>0.937455</td>\n",
       "      <td>0.30400</td>\n",
       "      <td>35023133</td>\n",
       "      <td>0.107214</td>\n",
       "      <td>1.170399e+07</td>\n",
       "      <td>122.236998</td>\n",
       "      <td>26.480535</td>\n",
       "      <td>21.071994</td>\n",
       "      <td>23.776265</td>\n",
       "      <td>2.697406e+05</td>\n",
       "      <td>28920.062300</td>\n",
       "    </tr>\n",
       "    <tr>\n",
       "      <td>1</td>\n",
       "      <td>Brisket 1-44H.csv</td>\n",
       "      <td>3900</td>\n",
       "      <td>6117.40</td>\n",
       "      <td>8435</td>\n",
       "      <td>5.000000</td>\n",
       "      <td>0.0567</td>\n",
       "      <td>0.01298</td>\n",
       "      <td>0.221377</td>\n",
       "      <td>4.556389e+06</td>\n",
       "      <td>0.778623</td>\n",
       "      <td>0.36054</td>\n",
       "      <td>36087449</td>\n",
       "      <td>0.072103</td>\n",
       "      <td>5.237163e+06</td>\n",
       "      <td>34.453241</td>\n",
       "      <td>13.401038</td>\n",
       "      <td>10.565269</td>\n",
       "      <td>11.983154</td>\n",
       "      <td>1.282571e+04</td>\n",
       "      <td>924.778265</td>\n",
       "    </tr>\n",
       "    <tr>\n",
       "      <td>2</td>\n",
       "      <td>Brisket 10-65H.csv</td>\n",
       "      <td>14400</td>\n",
       "      <td>83103.15</td>\n",
       "      <td>6006</td>\n",
       "      <td>58.052313</td>\n",
       "      <td>0.0806</td>\n",
       "      <td>0.02811</td>\n",
       "      <td>0.065860</td>\n",
       "      <td>8.361116e+06</td>\n",
       "      <td>0.934140</td>\n",
       "      <td>0.31912</td>\n",
       "      <td>36199370</td>\n",
       "      <td>0.097415</td>\n",
       "      <td>9.309136e+06</td>\n",
       "      <td>225.741373</td>\n",
       "      <td>65.789194</td>\n",
       "      <td>52.566181</td>\n",
       "      <td>59.177687</td>\n",
       "      <td>1.254164e+06</td>\n",
       "      <td>122174.025604</td>\n",
       "    </tr>\n",
       "    <tr>\n",
       "      <td>3</td>\n",
       "      <td>Brisket 2-149H.csv</td>\n",
       "      <td>62100</td>\n",
       "      <td>85911.09</td>\n",
       "      <td>6622</td>\n",
       "      <td>28.468096</td>\n",
       "      <td>0.0454</td>\n",
       "      <td>0.00895</td>\n",
       "      <td>0.190072</td>\n",
       "      <td>9.908358e+06</td>\n",
       "      <td>0.809928</td>\n",
       "      <td>0.29749</td>\n",
       "      <td>31397763</td>\n",
       "      <td>0.085264</td>\n",
       "      <td>1.087039e+07</td>\n",
       "      <td>82.226532</td>\n",
       "      <td>25.435261</td>\n",
       "      <td>20.122727</td>\n",
       "      <td>22.778994</td>\n",
       "      <td>1.156179e+05</td>\n",
       "      <td>9858.100054</td>\n",
       "    </tr>\n",
       "    <tr>\n",
       "      <td>4</td>\n",
       "      <td>Brisket 3-212H.csv</td>\n",
       "      <td>43000</td>\n",
       "      <td>21815.15</td>\n",
       "      <td>8230</td>\n",
       "      <td>82.059431</td>\n",
       "      <td>0.0373</td>\n",
       "      <td>0.00609</td>\n",
       "      <td>0.047795</td>\n",
       "      <td>1.219924e+07</td>\n",
       "      <td>0.952205</td>\n",
       "      <td>0.32134</td>\n",
       "      <td>30569755</td>\n",
       "      <td>0.079498</td>\n",
       "      <td>1.360398e+07</td>\n",
       "      <td>184.397217</td>\n",
       "      <td>71.981665</td>\n",
       "      <td>57.177338</td>\n",
       "      <td>64.579502</td>\n",
       "      <td>9.126251e+05</td>\n",
       "      <td>72551.465773</td>\n",
       "    </tr>\n",
       "  </tbody>\n",
       "</table>\n",
       "</div>"
      ],
      "text/plain": [
       "                 Name  northing  CENTER of easting  Length  Thickness  \\\n",
       "0  Brisket 1-204H.csv     33900           88867.87    4536  40.849003   \n",
       "1   Brisket 1-44H.csv      3900            6117.40    8435   5.000000   \n",
       "2  Brisket 10-65H.csv     14400           83103.15    6006  58.052313   \n",
       "3  Brisket 2-149H.csv     62100           85911.09    6622  28.468096   \n",
       "4  Brisket 3-212H.csv     43000           21815.15    8230  82.059431   \n",
       "\n",
       "   Porosity  Permeability  water saturation  Young's modulus  oil saturation  \\\n",
       "0    0.0611       0.01566          0.062545     1.062235e+07        0.937455   \n",
       "1    0.0567       0.01298          0.221377     4.556389e+06        0.778623   \n",
       "2    0.0806       0.02811          0.065860     8.361116e+06        0.934140   \n",
       "3    0.0454       0.00895          0.190072     9.908358e+06        0.809928   \n",
       "4    0.0373       0.00609          0.047795     1.219924e+07        0.952205   \n",
       "\n",
       "   poisson's ratio  average pressure (Pa)  recovery factor  \\\n",
       "0          0.30400               35023133         0.107214   \n",
       "1          0.36054               36087449         0.072103   \n",
       "2          0.31912               36199370         0.097415   \n",
       "3          0.29749               31397763         0.085264   \n",
       "4          0.32134               30569755         0.079498   \n",
       "\n",
       "   E prime calculation  b calculation  Area method one  Area method two  \\\n",
       "0         1.170399e+07     122.236998        26.480535        21.071994   \n",
       "1         5.237163e+06      34.453241        13.401038        10.565269   \n",
       "2         9.309136e+06     225.741373        65.789194        52.566181   \n",
       "3         1.087039e+07      82.226532        25.435261        20.122727   \n",
       "4         1.360398e+07     184.397217        71.981665        57.177338   \n",
       "\n",
       "   Area average  original oil in place  recovery reserves  \n",
       "0     23.776265           2.697406e+05       28920.062300  \n",
       "1     11.983154           1.282571e+04         924.778265  \n",
       "2     59.177687           1.254164e+06      122174.025604  \n",
       "3     22.778994           1.156179e+05        9858.100054  \n",
       "4     64.579502           9.126251e+05       72551.465773  "
      ]
     },
     "execution_count": 8,
     "metadata": {},
     "output_type": "execute_result"
    }
   ],
   "source": [
    "df.head()"
   ]
  },
  {
   "cell_type": "code",
   "execution_count": 9,
   "metadata": {},
   "outputs": [],
   "source": [
    "Name = df['Name']\n",
    "rec_fac = df['recovery factor']\n",
    "orig_oil = df['original oil in place']\n",
    "rec_rev = df['recovery reserves']"
   ]
  },
  {
   "cell_type": "code",
   "execution_count": 10,
   "metadata": {},
   "outputs": [
    {
     "data": {
      "image/png": "[encoded data removed]",
      "text/plain": [
       "<Figure size 432x288 with 1 Axes>"
      ]
     },
     "metadata": {
      "needs_background": "light"
     },
     "output_type": "display_data"
    }
   ],
   "source": [
    "plt.scatter(orig_oil, rec_rev, alpha=1)\n",
    "plt.xlabel('original oil')\n",
    "plt.ylabel('recovery reserves')\n",
    "plt.show()"
   ]
  },
  {
   "cell_type": "code",
   "execution_count": 11,
   "metadata": {},
   "outputs": [
    {
     "name": "stdout",
     "output_type": "stream",
     "text": [
      "The model parameters are, slope (b1) = 0.09, and the intercept (b0) = -262.48\n"
     ]
    }
   ],
   "source": [
    "slope, intercept, r_value, p_value, std_err = st.linregress(orig_oil, rec_rev)\n",
    "\n",
    "print(\n",
    "    \"The model parameters are, slope (b1) = \"\n",
    "    + str(round(slope, 2))\n",
    "    + \", and the intercept (b0) = \"\n",
    "    + str(round(intercept, 2))\n",
    ")"
   ]
  },
  {
   "cell_type": "code",
   "execution_count": 13,
   "metadata": {},
   "outputs": [],
   "source": [
    "X = orig_oil.values.reshape(-1,1)\n",
    "y = rec_rev.values.reshape(-1,1)\n",
    "X_train, X_test, y_train, y_test = train_test_split(X, y, test_size=0.2, random_state=0)"
   ]
  },
  {
   "cell_type": "code",
   "execution_count": 16,
   "metadata": {},
   "outputs": [
    {
     "data": {
      "text/plain": [
       "LinearRegression(copy_X=True, fit_intercept=True, n_jobs=None, normalize=False)"
      ]
     },
     "execution_count": 16,
     "metadata": {},
     "output_type": "execute_result"
    }
   ],
   "source": [
    "from sklearn.linear_model import LinearRegression\n",
    "regressor = LinearRegression()  \n",
    "regressor.fit(X_train, y_train) #training the algorithm"
   ]
  },
  {
   "cell_type": "code",
   "execution_count": 17,
   "metadata": {},
   "outputs": [
    {
     "data": {
      "image/png": "[encoded data removed]",
      "text/plain": [
       "<Figure size 432x288 with 1 Axes>"
      ]
     },
     "metadata": {
      "needs_background": "light"
     },
     "output_type": "display_data"
    }
   ],
   "source": [
    "plt.plot(orig_oil, rec_rev, \"o\", label=\"sample data\")\n",
    "plt.plot(orig_oil, intercept + slope * orig_oil, \"r\", label=\"linear regression model\")\n",
    "plt.legend()\n",
    "plt.show()"
   ]
  },
  {
   "cell_type": "code",
   "execution_count": 25,
   "metadata": {},
   "outputs": [
    {
     "data": {
      "text/plain": [
       "27256.612569915516"
      ]
     },
     "execution_count": 25,
     "metadata": {},
     "output_type": "execute_result"
    }
   ],
   "source": [
    "y_pred = regressor.predict(X_test)\n",
    "x = orig_oil\n",
    "y = rec_rev\n",
    "np.interp(2021496, x,y)"
   ]
  },
  {
   "cell_type": "code",
   "execution_count": 19,
   "metadata": {},
   "outputs": [
    {
     "data": {
      "text/html": [
       "<div>\n",
       "<style scoped>\n",
       "    .dataframe tbody tr th:only-of-type {\n",
       "        vertical-align: middle;\n",
       "    }\n",
       "\n",
       "    .dataframe tbody tr th {\n",
       "        vertical-align: top;\n",
       "    }\n",
       "\n",
       "    .dataframe thead th {\n",
       "        text-align: right;\n",
       "    }\n",
       "</style>\n",
       "<table border=\"1\" class=\"dataframe\">\n",
       "  <thead>\n",
       "    <tr style=\"text-align: right;\">\n",
       "      <th></th>\n",
       "      <th>Actual</th>\n",
       "      <th>Predicted</th>\n",
       "    </tr>\n",
       "  </thead>\n",
       "  <tbody>\n",
       "    <tr>\n",
       "      <td>0</td>\n",
       "      <td>119768.349107</td>\n",
       "      <td>96787.483317</td>\n",
       "    </tr>\n",
       "    <tr>\n",
       "      <td>1</td>\n",
       "      <td>385883.838157</td>\n",
       "      <td>339956.564874</td>\n",
       "    </tr>\n",
       "    <tr>\n",
       "      <td>2</td>\n",
       "      <td>122174.025604</td>\n",
       "      <td>114912.187946</td>\n",
       "    </tr>\n",
       "    <tr>\n",
       "      <td>3</td>\n",
       "      <td>82795.059563</td>\n",
       "      <td>83420.685029</td>\n",
       "    </tr>\n",
       "    <tr>\n",
       "      <td>4</td>\n",
       "      <td>54787.991220</td>\n",
       "      <td>60320.455472</td>\n",
       "    </tr>\n",
       "    <tr>\n",
       "      <td>5</td>\n",
       "      <td>48806.778879</td>\n",
       "      <td>45363.587250</td>\n",
       "    </tr>\n",
       "    <tr>\n",
       "      <td>6</td>\n",
       "      <td>122520.354317</td>\n",
       "      <td>131985.854544</td>\n",
       "    </tr>\n",
       "    <tr>\n",
       "      <td>7</td>\n",
       "      <td>173268.573769</td>\n",
       "      <td>149499.435470</td>\n",
       "    </tr>\n",
       "    <tr>\n",
       "      <td>8</td>\n",
       "      <td>17005.437501</td>\n",
       "      <td>17676.146899</td>\n",
       "    </tr>\n",
       "    <tr>\n",
       "      <td>9</td>\n",
       "      <td>184499.495891</td>\n",
       "      <td>165554.779635</td>\n",
       "    </tr>\n",
       "    <tr>\n",
       "      <td>10</td>\n",
       "      <td>207688.197777</td>\n",
       "      <td>208866.868432</td>\n",
       "    </tr>\n",
       "    <tr>\n",
       "      <td>11</td>\n",
       "      <td>29687.353657</td>\n",
       "      <td>25420.147543</td>\n",
       "    </tr>\n",
       "    <tr>\n",
       "      <td>12</td>\n",
       "      <td>247190.372297</td>\n",
       "      <td>269170.013871</td>\n",
       "    </tr>\n",
       "    <tr>\n",
       "      <td>13</td>\n",
       "      <td>2501.204518</td>\n",
       "      <td>2573.119722</td>\n",
       "    </tr>\n",
       "    <tr>\n",
       "      <td>14</td>\n",
       "      <td>203716.326345</td>\n",
       "      <td>192711.763676</td>\n",
       "    </tr>\n",
       "    <tr>\n",
       "      <td>15</td>\n",
       "      <td>29807.409051</td>\n",
       "      <td>23585.305296</td>\n",
       "    </tr>\n",
       "    <tr>\n",
       "      <td>16</td>\n",
       "      <td>128884.426795</td>\n",
       "      <td>109159.916904</td>\n",
       "    </tr>\n",
       "    <tr>\n",
       "      <td>17</td>\n",
       "      <td>31300.744162</td>\n",
       "      <td>106535.695066</td>\n",
       "    </tr>\n",
       "    <tr>\n",
       "      <td>18</td>\n",
       "      <td>948.145264</td>\n",
       "      <td>748.306853</td>\n",
       "    </tr>\n",
       "    <tr>\n",
       "      <td>19</td>\n",
       "      <td>47003.127360</td>\n",
       "      <td>46583.445054</td>\n",
       "    </tr>\n",
       "  </tbody>\n",
       "</table>\n",
       "</div>"
      ],
      "text/plain": [
       "           Actual      Predicted\n",
       "0   119768.349107   96787.483317\n",
       "1   385883.838157  339956.564874\n",
       "2   122174.025604  114912.187946\n",
       "3    82795.059563   83420.685029\n",
       "4    54787.991220   60320.455472\n",
       "5    48806.778879   45363.587250\n",
       "6   122520.354317  131985.854544\n",
       "7   173268.573769  149499.435470\n",
       "8    17005.437501   17676.146899\n",
       "9   184499.495891  165554.779635\n",
       "10  207688.197777  208866.868432\n",
       "11   29687.353657   25420.147543\n",
       "12  247190.372297  269170.013871\n",
       "13    2501.204518    2573.119722\n",
       "14  203716.326345  192711.763676\n",
       "15   29807.409051   23585.305296\n",
       "16  128884.426795  109159.916904\n",
       "17   31300.744162  106535.695066\n",
       "18     948.145264     748.306853\n",
       "19   47003.127360   46583.445054"
      ]
     },
     "execution_count": 19,
     "metadata": {},
     "output_type": "execute_result"
    }
   ],
   "source": [
    "df = pd.DataFrame({'Actual': y_test.flatten(), 'Predicted': y_pred.flatten()})\n",
    "df"
   ]
  },
  {
   "cell_type": "code",
   "execution_count": 93,
   "metadata": {},
   "outputs": [
    {
     "data": {
      "text/plain": [
       "KernelRidge(alpha=1e-11, coef0=1, degree=3, gamma=None, kernel='rbf',\n",
       "            kernel_params=None)"
      ]
     },
     "execution_count": 93,
     "metadata": {},
     "output_type": "execute_result"
    }
   ],
   "source": [
    "X = rec_fac.values.reshape(-1,1)\n",
    "y = rec_rev.values.reshape(-1,1)\n",
    "clf = KernelRidge(alpha=0.00000000001, kernel = \"rbf\")\n",
    "clf.fit(X, y)"
   ]
  },
  {
   "cell_type": "code",
   "execution_count": 94,
   "metadata": {},
   "outputs": [
    {
     "data": {
      "text/plain": [
       "0.0779414237828353"
      ]
     },
     "execution_count": 94,
     "metadata": {},
     "output_type": "execute_result"
    }
   ],
   "source": [
    "clf.score(X, y)"
   ]
  },
  {
   "cell_type": "code",
   "execution_count": 95,
   "metadata": {},
   "outputs": [],
   "source": [
    "xp = np.linspace(rec_fac.min(), rec_fac.max(), 501)"
   ]
  },
  {
   "cell_type": "code",
   "execution_count": 96,
   "metadata": {},
   "outputs": [],
   "source": [
    "yp = clf.predict(xp.reshape(-1,1))"
   ]
  },
  {
   "cell_type": "code",
   "execution_count": 97,
   "metadata": {},
   "outputs": [
    {
     "data": {
      "text/plain": [
       "<matplotlib.collections.PathCollection at 0x16ee0049320>"
      ]
     },
     "execution_count": 97,
     "metadata": {},
     "output_type": "execute_result"
    },
    {
     "data": {
      "image/png": "[encoded data removed]",
      "text/plain": [
       "<Figure size 432x288 with 1 Axes>"
      ]
     },
     "metadata": {
      "needs_background": "light"
     },
     "output_type": "display_data"
    }
   ],
   "source": [
    "plt.plot(xp, yp, 'r')\n",
    "plt.scatter(rec_fac, rec_rev)"
   ]
  },
  {
   "cell_type": "code",
   "execution_count": null,
   "metadata": {},
   "outputs": [],
   "source": [
    "#the next 10 wells must be or close to fit these lines of best fit based on recovery factor and original oil in place. "
   ]
  }
 ],
 "metadata": {
  "kernelspec": {
   "display_name": "Python 3",
   "language": "python",
   "name": "python3"
  },
  "language_info": {
   "codemirror_mode": {
    "name": "ipython",
    "version": 3
   },
   "file_extension": ".py",
   "mimetype": "text/x-python",
   "name": "python",
   "nbconvert_exporter": "python",
   "pygments_lexer": "ipython3",
   "version": "3.6.7"
  }
 },
 "nbformat": 4,
 "nbformat_minor": 2
}
