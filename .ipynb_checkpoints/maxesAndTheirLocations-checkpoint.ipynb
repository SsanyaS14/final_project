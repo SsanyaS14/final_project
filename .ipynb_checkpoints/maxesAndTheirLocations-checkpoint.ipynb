{
 "cells": [
  {
   "cell_type": "code",
   "execution_count": 1,
   "metadata": {},
   "outputs": [],
   "source": [
    "import pandas as pd\n",
    "import numpy as np"
   ]
  },
  {
   "cell_type": "code",
   "execution_count": 3,
   "metadata": {},
   "outputs": [],
   "source": [
    "df = pd.read_csv(\"data/well production.csv\")"
   ]
  },
  {
   "cell_type": "code",
   "execution_count": 4,
   "metadata": {},
   "outputs": [
    {
     "name": "stdout",
     "output_type": "stream",
     "text": [
      "1053.0\n",
      "997.0\n",
      "954.0\n",
      "875.0\n",
      "794.0\n",
      "737.0\n",
      "664.0\n",
      "590.0\n",
      "522.0\n",
      "417.0\n",
      "380.0\n",
      "296.0\n",
      "[oil 1    97\n",
      "dtype: int64, oil 2    97\n",
      "dtype: int64, oil 3    97\n",
      "dtype: int64, oil 4    97\n",
      "dtype: int64, oil 5    97\n",
      "dtype: int64, oil 6    97\n",
      "dtype: int64, oil 7    97\n",
      "dtype: int64, oil 8    97\n",
      "dtype: int64, oil 9    97\n",
      "dtype: int64, oil 10    97\n",
      "dtype: int64, oil 11    97\n",
      "dtype: int64, oil 12    97\n",
      "dtype: int64]\n"
     ]
    }
   ],
   "source": [
    "listOfOilMaxes = []\n",
    "# Iterate over two given columns only from the dataframe\n",
    "for column in df[[\"oil 1\", \"oil 2\", \"oil 3\", \"oil 4\", \"oil 5\", \"oil 6\", \"oil 7\", \"oil 8\", \"oil 9\", \"oil 10\", \"oil 11\", \"oil 12\"]]:\n",
    "    listOfOilMaxes.append(df[column].max())\n",
    "    print(df[column].max())\n",
    "    \n",
    "listOfIndexes = [df[['oil 1']].idxmax(), df[['oil 2']].idxmax(), df[['oil 3']].idxmax(), df[['oil 4']].idxmax(), df[['oil 5']].idxmax(), df[['oil 6']].idxmax(), df[['oil 7']].idxmax(), df[['oil 8']].idxmax(), df[['oil 9']].idxmax(), df[['oil 10']].idxmax(), df[['oil 11']].idxmax(), df[['oil 12']].idxmax()]\n",
    "print(listOfIndexes)\n",
    "\n",
    "\n",
    "        \n",
    "    "
   ]
  },
  {
   "cell_type": "code",
   "execution_count": null,
   "metadata": {},
   "outputs": [],
   "source": []
  },
  {
   "cell_type": "code",
   "execution_count": null,
   "metadata": {},
   "outputs": [],
   "source": []
  },
  {
   "cell_type": "code",
   "execution_count": null,
   "metadata": {},
   "outputs": [],
   "source": []
  },
  {
   "cell_type": "code",
   "execution_count": null,
   "metadata": {},
   "outputs": [],
   "source": []
  }
 ],
 "metadata": {
  "kernelspec": {
   "display_name": "Python 3",
   "language": "python",
   "name": "python3"
  },
  "language_info": {
   "codemirror_mode": {
    "name": "ipython",
    "version": 3
   },
   "file_extension": ".py",
   "mimetype": "text/x-python",
   "name": "python",
   "nbconvert_exporter": "python",
   "pygments_lexer": "ipython3",
   "version": "3.7.4"
  }
 },
 "nbformat": 4,
 "nbformat_minor": 4
}
